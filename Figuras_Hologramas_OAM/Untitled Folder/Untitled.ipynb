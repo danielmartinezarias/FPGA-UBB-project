{
 "cells": [
  {
   "cell_type": "code",
   "execution_count": 1,
   "metadata": {},
   "outputs": [
    {
     "name": "stdout",
     "output_type": "stream",
     "text": [
      "Images generated successfully and saved in the 'generated_images' directory.\n"
     ]
    }
   ],
   "source": [
    "from PIL import Image, ImageDraw, ImageFont\n",
    "import os\n",
    "\n",
    "# Output directory to save images\n",
    "output_dir = \"generated_images\"\n",
    "\n",
    "# Create the output directory if it doesn't exist\n",
    "if not os.path.exists(output_dir):\n",
    "    os.makedirs(output_dir)\n",
    "\n",
    "# Font settings\n",
    "font = ImageFont.truetype(\"arial.ttf\", 500)\n",
    "\n",
    "# Image dimensions\n",
    "width, height = 1920, 1080\n",
    "\n",
    "# Generate and save 256 images\n",
    "for i in range(256):\n",
    "    # Create a new image with a white background\n",
    "    img = Image.new(\"RGB\", (width, height), \"white\")\n",
    "    draw = ImageDraw.Draw(img)\n",
    "\n",
    "    # Get the size of the text\n",
    "    text = str(i)\n",
    "    text_width, text_height = draw.textsize(text, font)\n",
    "\n",
    "    # Calculate the position to center the text\n",
    "    x = (width - text_width) // 2\n",
    "    y = (height - text_height) // 2\n",
    "\n",
    "    # Draw the text on the image\n",
    "    draw.text((x, y), text, fill=\"black\", font=font)\n",
    "\n",
    "    # Save the image\n",
    "    img.save(os.path.join(output_dir, f\"image_{i:03}.jpg\"))\n",
    "\n",
    "print(\"Images generated successfully and saved in the 'generated_images' directory.\")\n"
   ]
  },
  {
   "cell_type": "code",
   "execution_count": null,
   "metadata": {},
   "outputs": [],
   "source": []
  },
  {
   "cell_type": "code",
   "execution_count": null,
   "metadata": {},
   "outputs": [],
   "source": []
  }
 ],
 "metadata": {
  "kernelspec": {
   "display_name": "Python 3",
   "language": "python",
   "name": "python3"
  },
  "language_info": {
   "codemirror_mode": {
    "name": "ipython",
    "version": 3
   },
   "file_extension": ".py",
   "mimetype": "text/x-python",
   "name": "python",
   "nbconvert_exporter": "python",
   "pygments_lexer": "ipython3",
   "version": "3.8.3"
  }
 },
 "nbformat": 4,
 "nbformat_minor": 4
}
